{
 "cells": [
  {
   "cell_type": "markdown",
   "metadata": {},
   "source": [
    "# Assignment 3\n",
    "(Assignment groups 2 and 10)\n",
    "\n",
    "- Jasper Bosschart s2562685\n",
    "- Marina Stefanova s2610604\n",
    "- Nagham Mekky s3096564\n",
    "- Sven Sonneveld s2594854\n",
    "- Hynek Noll s3102181"
   ]
  },
  {
   "cell_type": "code",
   "execution_count": 2,
   "metadata": {},
   "outputs": [],
   "source": [
    "import matplotlib.pyplot as plt\n",
    "import numpy as np\n",
    "import csv\n",
    "import pandas as pd"
   ]
  },
  {
   "cell_type": "markdown",
   "metadata": {},
   "source": [
    "# Motivation and Goals"
   ]
  },
  {
   "cell_type": "markdown",
   "metadata": {},
   "source": [
    "# Methodology and Results \n",
    "Our goal is to analyze leaked chat logs of a ransomware group Conti."
   ]
  },
  {
   "cell_type": "markdown",
   "metadata": {},
   "source": [
    "1) How many total records are in the data?  "
   ]
  },
  {
   "cell_type": "code",
   "execution_count": 6,
   "metadata": {},
   "outputs": [
    {
     "name": "stdout",
     "output_type": "stream",
     "text": [
      "Number of records:  60773\n"
     ]
    }
   ],
   "source": [
    "file = open('jabber_chat_2021_2022_translated.csv',encoding='utf8')\n",
    "reader = csv.reader(file)\n",
    "record_count= len(list(reader))-1\n",
    "print(\"Number of records: \", record_count)"
   ]
  },
  {
   "cell_type": "markdown",
   "metadata": {},
   "source": [
    "2) How many of these records are encrypted and cannot be read?"
   ]
  },
  {
   "cell_type": "markdown",
   "metadata": {},
   "source": [
    "3) How many messages are sent originally in Russian, and how many are sent in English?"
   ]
  },
  {
   "cell_type": "code",
   "execution_count": 4,
   "metadata": {},
   "outputs": [
    {
     "name": "stdout",
     "output_type": "stream",
     "text": [
      "Number of Russian messages:  32706\n",
      "Number of English messages:  4314\n"
     ]
    }
   ],
   "source": [
    "russian_count = 0\n",
    "english_count = 0\n",
    "# Read the data from the csv file\n",
    "with open('jabber_chat_2021_2022_translated.csv','r',encoding='utf8') as csvfile:\n",
    "    lines = csv.reader(csvfile, delimiter=',')\n",
    "    for row in lines:\n",
    "        if (row[6]=='ru'):\n",
    "            russian_count += 1\n",
    "        elif (row[6]=='en'):\n",
    "            english_count += 1\n",
    "print(\"Number of Russian messages: \", russian_count)\n",
    "print(\"Number of English messages: \", english_count)"
   ]
  },
  {
   "cell_type": "code",
   "execution_count": 13,
   "metadata": {},
   "outputs": [
    {
     "name": "stdout",
     "output_type": "stream",
     "text": [
      "[{'Email address': 'from', 'count': 1}, {'Email address': 'driver@q3mcco35auwcstmt.onion', 'count': 3968}, {'Email address': 'hof@q3mcco35auwcstmt.onion', 'count': 2389}, {'Email address': 'bentley@q3mcco35auwcstmt.onion', 'count': 1810}, {'Email address': 'tom@q3mcco35auwcstmt.onion', 'count': 393}, {'Email address': 'mentos@q3mcco35auwcstmt.onion', 'count': 67}, {'Email address': 'strix@q3mcco35auwcstmt.onion', 'count': 265}, {'Email address': 'merch@q3mcco35auwcstmt.onion', 'count': 39}, {'Email address': 'defender@q3mcco35auwcstmt.onion', 'count': 8246}, {'Email address': 'professor@q3mcco35auwcstmt.onion', 'count': 189}, {'Email address': 'carter@q3mcco35auwcstmt.onion', 'count': 123}, {'Email address': 'love@q3mcco35auwcstmt.onion', 'count': 552}, {'Email address': 'sunday@q3mcco35auwcstmt.onion', 'count': 472}, {'Email address': 'grom@q3mcco35auwcstmt.onion', 'count': 1200}, {'Email address': 'derek@q3mcco35auwcstmt.onion', 'count': 255}, {'Email address': 'miguel@q3mcco35auwcstmt.onion', 'count': 10}, {'Email address': 'salamandra@q3mcco35auwcstmt.onion', 'count': 349}, {'Email address': 'mango@q3mcco35auwcstmt.onion', 'count': 3194}, {'Email address': 'dominik@q3mcco35auwcstmt.onion', 'count': 146}, {'Email address': 'hash@q3mcco35auwcstmt.onion', 'count': 209}, {'Email address': 'many@q3mcco35auwcstmt.onion', 'count': 1015}, {'Email address': 'stern@q3mcco35auwcstmt.onion', 'count': 4323}, {'Email address': 'cybergangster@q3mcco35auwcstmt.onion', 'count': 607}, {'Email address': 'pumba@q3mcco35auwcstmt.onion', 'count': 915}, {'Email address': 'tramp@q3mcco35auwcstmt.onion', 'count': 1629}, {'Email address': 'green@q3mcco35auwcstmt.onion', 'count': 367}, {'Email address': 'modnik@q3mcco35auwcstmt.onion', 'count': 127}, {'Email address': 'chain@q3mcco35auwcstmt.onion', 'count': 121}, {'Email address': 'derekson@q3mcco35auwcstmt.onion', 'count': 400}, {'Email address': 'ford@q3mcco35auwcstmt.onion', 'count': 456}, {'Email address': 'buza@q3mcco35auwcstmt.onion', 'count': 561}, {'Email address': 'veron@q3mcco35auwcstmt.onion', 'count': 2955}, {'Email address': 'dino@q3mcco35auwcstmt.onion', 'count': 54}, {'Email address': 'best@q3mcco35auwcstmt.onion', 'count': 630}, {'Email address': 'elon@q3mcco35auwcstmt.onion', 'count': 81}, {'Email address': 'porovoz@q3mcco35auwcstmt.onion', 'count': 20}, {'Email address': 'dylon@q3mcco35auwcstmt.onion', 'count': 73}, {'Email address': 'grand@q3mcco35auwcstmt.onion', 'count': 123}, {'Email address': 'begemot@q3mcco35auwcstmt.onion', 'count': 305}, {'Email address': 'lemur@q3mcco35auwcstmt.onion', 'count': 178}, {'Email address': 'mavemat@q3mcco35auwcstmt.onion', 'count': 98}, {'Email address': 'baget@q3mcco35auwcstmt.onion', 'count': 357}, {'Email address': 'tiktak@q3mcco35auwcstmt.onion', 'count': 173}, {'Email address': 'rand@q3mcco35auwcstmt.onion', 'count': 127}, {'Email address': 'boby@q3mcco35auwcstmt.onion', 'count': 69}, {'Email address': 'grajdanin@q3mcco35auwcstmt.onion', 'count': 53}, {'Email address': 'terry@q3mcco35auwcstmt.onion', 'count': 489}, {'Email address': 'viper@q3mcco35auwcstmt.onion', 'count': 216}, {'Email address': 'cheesecake@q3mcco35auwcstmt.onion', 'count': 53}, {'Email address': 'ramon@q3mcco35auwcstmt.onion', 'count': 424}, {'Email address': 'nuggets@q3mcco35auwcstmt.onion', 'count': 6}, {'Email address': 'zulas@q3mcco35auwcstmt.onion', 'count': 611}, {'Email address': 'baraka@q3mcco35auwcstmt.onion', 'count': 24}, {'Email address': 'firefox333@xmpp.jp', 'count': 5}, {'Email address': 'meatball@q3mcco35auwcstmt.onion', 'count': 24}, {'Email address': 'revers@q3mcco35auwcstmt.onion', 'count': 519}, {'Email address': 'reshaev@q3mcco35auwcstmt.onion', 'count': 765}, {'Email address': 'johnyboy77@q3mcco35auwcstmt.onion', 'count': 65}, {'Email address': 'pin@q3mcco35auwcstmt.onion', 'count': 586}, {'Email address': 'netwalker@q3mcco35auwcstmt.onion', 'count': 279}, {'Email address': 'jumbo@q3mcco35auwcstmt.onion', 'count': 44}, {'Email address': 'braun@q3mcco35auwcstmt.onion', 'count': 77}, {'Email address': 'void@q3mcco35auwcstmt.onion', 'count': 83}, {'Email address': 'nik-da@q3mcco35auwcstmt.onion', 'count': 24}, {'Email address': 'ali@q3mcco35auwcstmt.onion', 'count': 263}, {'Email address': 'neo@q3mcco35auwcstmt.onion', 'count': 90}, {'Email address': 'wertu@q3mcco35auwcstmt.onion', 'count': 74}, {'Email address': 'tunri@q3mcco35auwcstmt.onion', 'count': 6}, {'Email address': 'kagas@q3mcco35auwcstmt.onion', 'count': 128}, {'Email address': 'grant@q3mcco35auwcstmt.onion', 'count': 692}, {'Email address': 'axel@q3mcco35auwcstmt.onion', 'count': 78}, {'Email address': 'specter@q3mcco35auwcstmt.onion', 'count': 580}, {'Email address': 'mult@q3mcco35auwcstmt.onion', 'count': 25}, {'Email address': 'doomsday@q3mcco35auwcstmt.onion', 'count': 3}, {'Email address': 'dollar@q3mcco35auwcstmt.onion', 'count': 684}, {'Email address': 'idgo@q3mcco35auwcstmt.onion', 'count': 10}, {'Email address': 'ghost@q3mcco35auwcstmt.onion', 'count': 375}, {'Email address': 'steller@q3mcco35auwcstmt.onion', 'count': 157}, {'Email address': 'tort@q3mcco35auwcstmt.onion', 'count': 29}, {'Email address': 'dandis@q3mcco35auwcstmt.onion', 'count': 213}, {'Email address': 'wind@q3mcco35auwcstmt.onion', 'count': 106}, {'Email address': 'kramer@q3mcco35auwcstmt.onion', 'count': 37}, {'Email address': 'guava@q3mcco35auwcstmt.onion', 'count': 52}, {'Email address': 'sticks@q3mcco35auwcstmt.onion', 'count': 73}, {'Email address': 'twin@q3mcco35auwcstmt.onion', 'count': 53}, {'Email address': 'demon@q3mcco35auwcstmt.onion', 'count': 267}, {'Email address': 'globus@q3mcco35auwcstmt.onion', 'count': 51}, {'Email address': 'skippy@q3mcco35auwcstmt.onion', 'count': 1610}, {'Email address': 'ed@q3mcco35auwcstmt.onion', 'count': 4}, {'Email address': 'tiniles@q3mcco35auwcstmt.onion', 'count': 21}, {'Email address': 'kent@q3mcco35auwcstmt.onion', 'count': 39}, {'Email address': 'mozart@q3mcco35auwcstmt.onion', 'count': 16}, {'Email address': 'fatboy@q3mcco35auwcstmt.onion', 'count': 64}, {'Email address': 'atlas@q3mcco35auwcstmt.onion', 'count': 44}, {'Email address': 'gold@q3mcco35auwcstmt.onion', 'count': 52}, {'Email address': 'fast@q3mcco35auwcstmt.onion', 'count': 28}, {'Email address': 'fog@q3mcco35auwcstmt.onion', 'count': 13}, {'Email address': 'elvira@q3mcco35auwcstmt.onion', 'count': 144}, {'Email address': 'bloodrush@q3mcco35auwcstmt.onion', 'count': 1798}, {'Email address': 'buran@q3mcco35auwcstmt.onion', 'count': 98}, {'Email address': 'hitech@q3mcco35auwcstmt.onion', 'count': 12}, {'Email address': 'ponetre@q3mcco35auwcstmt.onion', 'count': 1}, {'Email address': 'paranoik@q3mcco35auwcstmt.onion', 'count': 49}, {'Email address': 'b2zbrzj5sljbmemgfqnn7zlarduyjhvjwt', 'count': 3}, {'Email address': 'starfall@q3mcco35auwcstmt.onion', 'count': 20}, {'Email address': 'salmon21@thesecure.biz', 'count': 1}, {'Email address': 'forum@q3mcco35auwcstmt.onion', 'count': 9}, {'Email address': 'zolotoy@q3mcco35auwcstmt.onion', 'count': 48}, {'Email address': 'cherry@q3mcco35auwcstmt.onion', 'count': 72}, {'Email address': 'azot@q3mcco35auwcstmt.onion', 'count': 43}, {'Email address': 'rozetka@q3mcco35auwcstmt.onion', 'count': 173}, {'Email address': 'hors@q3mcco35auwcstmt.onion', 'count': 173}, {'Email address': 'cert@q3mcco35auwcstmt.onion', 'count': 22}, {'Email address': 'bio@q3mcco35auwcstmt.onion', 'count': 3196}, {'Email address': 'blood@q3mcco35auwcstmt.onion', 'count': 3}, {'Email address': 'romanov_2@q3mcco35auwcstmt.onion', 'count': 2}, {'Email address': 'answer@q3mcco35auwcstmt.onion', 'count': 17}, {'Email address': 'nevada@q3mcco35auwcstmt.onion', 'count': 28}, {'Email address': 'alarm2@q3mcco35auwcstmt.onion', 'count': 15}, {'Email address': 'beta@q3mcco35auwcstmt.onion', 'count': 34}, {'Email address': 'kevin@q3mcco35auwcstmt.onion', 'count': 92}, {'Email address': 'hlor@q3mcco35auwcstmt.onion', 'count': 15}, {'Email address': 'taker@q3mcco35auwcstmt.onion', 'count': 102}, {'Email address': 'bekeeper@q3mcco35auwcstmt.onion', 'count': 37}, {'Email address': 'vampire@q3mcco35auwcstmt.onion', 'count': 40}, {'Email address': 'batka@q3mcco35auwcstmt.onion', 'count': 13}, {'Email address': 'leo@q3mcco35auwcstmt.onion', 'count': 154}, {'Email address': 'flip@q3mcco35auwcstmt.onion', 'count': 69}, {'Email address': 'bourbon@q3mcco35auwcstmt.onion', 'count': 14}, {'Email address': 'muchacho@q3mcco35auwcstmt.onion', 'count': 8}, {'Email address': 'andy@q3mcco35auwcstmt.onion', 'count': 21}, {'Email address': 'gorec@q3mcco35auwcstmt.onion', 'count': 53}, {'Email address': 'stakan@q3mcco35auwcstmt.onion', 'count': 49}, {'Email address': 'bill@q3mcco35auwcstmt.onion', 'count': 40}, {'Email address': 'steve@q3mcco35auwcstmt.onion', 'count': 9}, {'Email address': 'target@q3mcco35auwcstmt.onion', 'count': 12}, {'Email address': 'cruz@q3mcco35auwcstmt.onion', 'count': 29}, {'Email address': 'kaktus@q3mcco35auwcstmt.onion', 'count': 20}, {'Email address': 'klaus@q3mcco35auwcstmt.onion', 'count': 22}, {'Email address': 'bash@q3mcco35auwcstmt.onion', 'count': 14}, {'Email address': 'subzero@q3mcco35auwcstmt.onion', 'count': 18}, {'Email address': 'verchunls@chatterboxtown.us', 'count': 1}, {'Email address': 'clipper@q3mcco35auwcstmt.onion', 'count': 4}, {'Email address': 'skywalker@q3mcco35auwcstmt.onion', 'count': 9}, {'Email address': 'ganesh@q3mcco35auwcstmt.onion', 'count': 32}, {'Email address': 'cosmos@q3mcco35auwcstmt.onion', 'count': 35}, {'Email address': 'zevs@3mcco35auwcstmt.onion', 'count': 1}, {'Email address': 'chip@q3mcco35auwcstmt.onion', 'count': 17}, {'Email address': 'logan@q3mcco35auwcstmt.onion', 'count': 60}, {'Email address': 'page@q3mcco35auwcstmt.onion', 'count': 9}, {'Email address': 'grafin@q3mcco35auwcstmt.onion', 'count': 7}, {'Email address': 'van@q3mcco35auwcstmt.onion', 'count': 104}, {'Email address': 'bullet@q3mcco35auwcstmt.onion', 'count': 26}, {'Email address': 'ttrr@conference.q3mcco35auwcstmt.onion', 'count': 3122}, {'Email address': 'romanov@q3mcco35auwcstmt.onion', 'count': 3}, {'Email address': 'sentinel@q3mcco35auwcstmt.onion', 'count': 17}, {'Email address': 'gus@q3mcco35auwcstmt.onion', 'count': 11}, {'Email address': 'swift@q3mcco35auwcstmt.onion', 'count': 15}, {'Email address': 'macallan@q3mcco35auwcstmt.onion', 'count': 12}, {'Email address': 'band@q3mcco35auwcstmt.onion', 'count': 6}, {'Email address': 'forest@q3mcco35auwcstmt.onion', 'count': 8}, {'Email address': 'mango@odw5mdwotufuxxrgw3pvqjjuze3e33bylylkl667h4nefwiimwqsumyd.onion', 'count': 1}, {'Email address': 'slojno@q3mcco35auwcstmt.onion', 'count': 3}, {'Email address': 'mont@q3mcco35auwcstmt.onion', 'count': 43}, {'Email address': 'larry@q3mcco35auwcstmt.onion', 'count': 1}, {'Email address': 'flint@q3mcco35auwcstmt.onion', 'count': 4}, {'Email address': 'horse@q3mcco35auwcstmt.onion', 'count': 1}, {'Email address': 'glad@q3mcco35auwcstmt.onion', 'count': 9}, {'Email address': 'netman@q3mcco35auwcstmt.onion', 'count': 5}, {'Email address': 'dick@q3mcco35auwcstmt.onion', 'count': 14}, {'Email address': 'eleoslin@msjb.pw', 'count': 1}, {'Email address': 'eleos@msjb.pw', 'count': 1}, {'Email address': 'tatarin@q3mcco35auwcstmt.onion', 'count': 7}, {'Email address': 'sonar@q3mcco35auwcstmt.onion', 'count': 23}, {'Email address': 'born@6ub5waskpuglkrjbz5se23xushqvr3pgpseyetxiycjmp6h5gm6jrpad.onion', 'count': 1}, {'Email address': 'blackjob@q3mcco35auwcstmt.onion', 'count': 29}, {'Email address': 'joynses@thesecure.biz', 'count': 1}, {'Email address': 'kerasid@q3mcco35auwcstmt.onion', 'count': 1}, {'Email address': 'bezdar@q3mcco35auwcstmt.onion', 'count': 8}, {'Email address': 'sepvilk@q3mcco35auwcstmt.onion', 'count': 12}, {'Email address': 'santi@q3mcco35auwcstmt.onion', 'count': 6}, {'Email address': 'packman@hsfhksrd62ga3n3v.onion', 'count': 1}, {'Email address': 'admin@q3mcco35auwcstmt.onion', 'count': 17}, {'Email address': 'zevs@q3mcco35auwcstmt.onion', 'count': 44}, {'Email address': 'graf@q3mcco35auwcstmt.onion', 'count': 9}, {'Email address': 'mors@q3mcco35auwcstmt.onion', 'count': 5}, {'Email address': 'freebeer@q3mcco35auwcstmt.onion', 'count': 6}, {'Email address': 'snow@q3mcco35auwcstmt.onion', 'count': 14}, {'Email address': 'troy@q3mcco35auwcstmt.onion', 'count': 2}, {'Email address': 'nick@q3mcco35auwcstmt.onion', 'count': 1}, {'Email address': 'admintest@q3mcco35auwcstmt.onion', 'count': 21}, {'Email address': 'kolbasa@q3mcco35auwcstmt.onion', 'count': 2}, {'Email address': 'alarm@q3mcco35auwcstmt.onion', 'count': 10}, {'Email address': 'git@q3mcco35auwcstmt.onion', 'count': 2}, {'Email address': 'btdpnqwg2nqkqceetqnn7zlarduyjhvjwt', 'count': 1}, {'Email address': 'spider@q3mcco35auwcstmt.onion', 'count': 5}, {'Email address': 'prizrak@q3mcco35auwcstmt.onion', 'count': 11}, {'Email address': 'born@q3mcco35auwcstmt.onion', 'count': 2}, {'Email address': 'spoon@q3mcco35auwcstmt.onion', 'count': 52}, {'Email address': 'golova@q3mcco35auwcstmt.onion', 'count': 1}, {'Email address': 'gm@q3mcco35auwcstmt.onion', 'count': 9}, {'Email address': 'morisson@q3mcco35auwcstmt.onion', 'count': 3}, {'Email address': 'demetrius@q3mcco35auwcstmt.onion', 'count': 1}, {'Email address': 'log@q3mcco35auwcstmt.onion', 'count': 1}, {'Email address': 'hookahplace@conference.q3mcco35auwcstmt.onion', 'count': 1}, {'Email address': 'werka@conference.q3mcco35auwcstmt.onion', 'count': 1}, {'Email address': 'poll@q3mcco35auwcstmt.onion', 'count': 1}, {'Email address': 'taur@q3mcco35auwcstmt.onion', 'count': 1}, {'Email address': 'mavelek@q3mcco35auwcstmt.onion', 'count': 1}, {'Email address': 'longer@q3mcco35auwcstmt.onion', 'count': 1}, {'Email address': 'revan@q3mcco35auwcstmt.onion', 'count': 1}, {'Email address': 'sand@q3mcco35auwcstmt.onion', 'count': 1}, {'Email address': 'max@q3mcco35auwcstmt.onion', 'count': 1}, {'Email address': 'shell@q3mcco35auwcstmt.onion', 'count': 1}, {'Email address': 'moms@q3mcco35auwcstmt.onion', 'count': 1}, {'Email address': 'staff@q3mcco35auwcstmt.onion', 'count': 1}, {'Email address': 'pincus@q3mcco35auwcstmt.onion', 'count': 1}, {'Email address': 'lucas@q3mcco35auwcstmt.onion', 'count': 1}, {'Email address': 'tilar@q3mcco35auwcstmt.onion', 'count': 1}, {'Email address': 'marsel@q3mcco35auwcstmt.onion', 'count': 1}, {'Email address': 'moon@q3mcco35auwcstmt.onion', 'count': 1}, {'Email address': 'baxter@q3mcco35auwcstmt.onion', 'count': 1}, {'Email address': 'matiz@q3mcco35auwcstmt.onion', 'count': 1}, {'Email address': 'marcus@q3mcco35auwcstmt.onion', 'count': 1}, {'Email address': 'olsen@q3mcco35auwcstmt.onion', 'count': 1}, {'Email address': 'urbanone@q3mcco35auwcstmt.onion', 'count': 1}, {'Email address': 'frank@q3mcco35auwcstmt.onion', 'count': 1}, {'Email address': 'buggati@q3mcco35auwcstmt.onion', 'count': 1}, {'Email address': 'atlant@q3mcco35auwcstmt.onion', 'count': 1}, {'Email address': 'forbes@q3mcco35auwcstmt.onion', 'count': 1}, {'Email address': 'darc@q3mcco35auwcstmt.onion', 'count': 1}, {'Email address': 'price@q3mcco35auwcstmt.onion', 'count': 3}, {'Email address': 'xoc@q3mcco35auwcstmt.onion', 'count': 1}, {'Email address': 'cany@q3mcco35auwcstmt.onion', 'count': 1}, {'Email address': 'naned@q3mcco35auwcstmt.onion', 'count': 3}, {'Email address': 'duna@q3mcco35auwcstmt.onion', 'count': 14}, {'Email address': 'rozetka', 'count': 1}, {'Email address': 'bonen@q3mcco35auwcstmt.onion', 'count': 7}, {'Email address': 'dantis@q3mcco35auwcstmt.onion', 'count': 1}, {'Email address': 'fire@q3mcco35auwcstmt.onion', 'count': 3}, {'Email address': 'mushroom@q3mcco35auwcstmt.onion', 'count': 12}, {'Email address': 'qwerty@q3mcco35auwcstmt.onion', 'count': 8}, {'Email address': 'admin@expiro-team.biz', 'count': 1}, {'Email address': 'alter', 'count': 2}, {'Email address': 'brom@q3mcco35auwcstmt.onion', 'count': 1}, {'Email address': 'goodwin@q3mcco35auwcstmt.onion', 'count': 6}, {'Email address': 'mitzi@6ub5waskpuglkrjbz5se23xushqvr3pgpseyetxiycjmp6h5gm6jrpad.onion', 'count': 2}, {'Email address': 'serp@q3mcco35auwcstmt.onion', 'count': 10}, {'Email address': 'dylan@q3mcco35auwcstmt.onion', 'count': 2}, {'Email address': 'valemy@q3mcco35auwcstmt.onion', 'count': 2}, {'Email address': 'fly@q3mcco35auwcstmt.onion', 'count': 5}, {'Email address': 'q3mcco35auwcstmt.onion', 'count': 5}, {'Email address': 'poll@conference.q3mcco35auwcstmt.onion', 'count': 1}, {'Email address': 'electronic@q3mcco35auwcstmt.onion', 'count': 2}, {'Email address': 'frog@q3mcco35auwcstmt.onion', 'count': 5}, {'Email address': 'fox@q3mcco35auwcstmt.onion', 'count': 2}, {'Email address': 'master@q3mcco35auwcstmt.onion', 'count': 8}, {'Email address': 'exploit.im', 'count': 1}, {'Email address': 'mavelak@q3mcco35auwcstmt.onion', 'count': 1}, {'Email address': 'beny@q3mcco35auwcstmt.onion', 'count': 1}, {'Email address': 'kingston@q3mcco35auwcstmt.onion', 'count': 1}, {'Email address': 'wowddoz@q3mcco35auwcstmt.onion', 'count': 3}, {'Email address': 'impact@q3mcco35auwcstmt.onion', 'count': 5}, {'Email address': 'odw5mdwotufuxxrgw3pvqjjuze3e33bylylkl667h4nefwiimwqsumyd.onion', 'count': 1}, {'Email address': 'billgeizh@q3mcco35auwcstmt.onion', 'count': 1}, {'Email address': 'mashroom@q3mcco35auwcstmt.onion', 'count': 1}, {'Email address': 'def@q3mcco35auwcstmt.onion', 'count': 1}, {'Email address': 'fury@q3mcco35auwcstmt.onion', 'count': 5}, {'Email address': 'licor@q3mcco35auwcstmt.onion', 'count': 1}, {'Email address': 'buza', 'count': 1}, {'Email address': 'max17@q3mcco35auwcstmt.onion', 'count': 1}, {'Email address': 'jax@q3mcco35auwcstmt.onion', 'count': 5}, {'Email address': 'pin2@q3mcco35auwcstmt.onion', 'count': 1}, {'Email address': 'modar@q3mcco35auwcstmt.onion', 'count': 1}, {'Email address': 'bumer@q3mcco35auwcstmt.onion', 'count': 1}]\n"
     ]
    }
   ],
   "source": [
    "dict = {}\n",
    "with open('jabber_chat_2021_2022_translated.csv','r',encoding='utf8') as csvfile:\n",
    "    lines = csv.reader(csvfile, delimiter=',')\n",
    "    for elem in lines:\n",
    "        if elem[2] not in dict:\n",
    "            dict[elem[2]] = 0\n",
    "        dict[elem[2]] = dict[elem[2]] + 1\n",
    "\n",
    "final_list = [{'Email address' : elem, 'count': dict[elem]} for elem in dict]\n",
    "print (final_list)"
   ]
  },
  {
   "cell_type": "markdown",
   "metadata": {},
   "source": [
    "# Conclusion and Reflections"
   ]
  },
  {
   "cell_type": "code",
   "execution_count": null,
   "metadata": {},
   "outputs": [],
   "source": []
  }
 ],
 "metadata": {
  "kernelspec": {
   "display_name": "Python 3.10.7 64-bit (microsoft store)",
   "language": "python",
   "name": "python3"
  },
  "language_info": {
   "codemirror_mode": {
    "name": "ipython",
    "version": 3
   },
   "file_extension": ".py",
   "mimetype": "text/x-python",
   "name": "python",
   "nbconvert_exporter": "python",
   "pygments_lexer": "ipython3",
   "version": "3.10.7"
  },
  "orig_nbformat": 4,
  "vscode": {
   "interpreter": {
    "hash": "a9309487acccd0856f8a519019e0531deb688e0d3fd9b2a8278d8251db943493"
   }
  }
 },
 "nbformat": 4,
 "nbformat_minor": 2
}
