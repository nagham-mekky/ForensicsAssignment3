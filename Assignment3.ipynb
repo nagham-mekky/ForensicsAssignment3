{
 "cells": [
  {
   "cell_type": "markdown",
   "metadata": {},
   "source": [
    "# Assignment 3\n",
    "(Assignment groups 2 and 10)\n",
    "\n",
    "- Jasper Bosschart s2562685\n",
    "- Marina Stefanova s2610604\n",
    "- Nagham Mekky s3096564\n",
    "- Sven Sonneveld s2594854\n",
    "- Hynek Noll s3102181"
   ]
  },
  {
   "cell_type": "code",
   "execution_count": 2,
   "metadata": {},
   "outputs": [],
   "source": [
    "import matplotlib.pyplot as plt\n",
    "import numpy as np\n",
    "import csv\n",
    "import pandas as pd"
   ]
  },
  {
   "cell_type": "markdown",
   "metadata": {},
   "source": [
    "# Motivation and Goals"
   ]
  },
  {
   "cell_type": "markdown",
   "metadata": {},
   "source": [
    "# Methodology and Results \n",
    "Our goal is to analyze leaked chat logs of a ransomware group Conti."
   ]
  },
  {
   "cell_type": "markdown",
   "metadata": {},
   "source": [
    "1) How many total records are in the data?  "
   ]
  },
  {
   "cell_type": "code",
   "execution_count": 5,
   "metadata": {},
   "outputs": [
    {
     "name": "stdout",
     "output_type": "stream",
     "text": [
      "Number of records:  60774\n"
     ]
    }
   ],
   "source": [
    "file = open('jabber_chat_2021_2022_translated.csv',encoding='utf8')\n",
    "reader = csv.reader(file)\n",
    "record_count= len(list(reader))\n",
    "print(\"Number of records: \", record_count)"
   ]
  },
  {
   "cell_type": "markdown",
   "metadata": {},
   "source": [
    "3) How many messages are sent originally in Russian, and how many are sent in English?"
   ]
  },
  {
   "cell_type": "code",
   "execution_count": 4,
   "metadata": {},
   "outputs": [
    {
     "name": "stdout",
     "output_type": "stream",
     "text": [
      "Number of Russian messages:  32706\n",
      "Number of English messages:  4314\n"
     ]
    }
   ],
   "source": [
    "russian_count = 0\n",
    "english_count = 0\n",
    "# Read the data from the csv file\n",
    "with open('jabber_chat_2021_2022_translated.csv','r',encoding='utf8') as csvfile:\n",
    "    lines = csv.reader(csvfile, delimiter=',')\n",
    "    for row in lines:\n",
    "        if (row[6]=='ru'):\n",
    "            russian_count += 1\n",
    "        elif (row[6]=='en'):\n",
    "            english_count += 1\n",
    "print(\"Number of Russian messages: \", russian_count)\n",
    "print(\"Number of English messages: \", english_count)"
   ]
  },
  {
   "cell_type": "markdown",
   "metadata": {},
   "source": [
    "# Conclusion and Reflections"
   ]
  },
  {
   "cell_type": "code",
   "execution_count": null,
   "metadata": {},
   "outputs": [],
   "source": []
  }
 ],
 "metadata": {
  "kernelspec": {
   "display_name": "Python 3.10.7 64-bit (microsoft store)",
   "language": "python",
   "name": "python3"
  },
  "language_info": {
   "codemirror_mode": {
    "name": "ipython",
    "version": 3
   },
   "file_extension": ".py",
   "mimetype": "text/x-python",
   "name": "python",
   "nbconvert_exporter": "python",
   "pygments_lexer": "ipython3",
   "version": "3.10.7"
  },
  "orig_nbformat": 4,
  "vscode": {
   "interpreter": {
    "hash": "a9309487acccd0856f8a519019e0531deb688e0d3fd9b2a8278d8251db943493"
   }
  }
 },
 "nbformat": 4,
 "nbformat_minor": 2
}
